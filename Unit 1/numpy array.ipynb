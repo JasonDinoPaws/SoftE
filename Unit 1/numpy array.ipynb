{
 "cells": [
  {
   "cell_type": "code",
   "execution_count": 69,
   "metadata": {},
   "outputs": [],
   "source": [
    "import numpy as np"
   ]
  },
  {
   "cell_type": "markdown",
   "metadata": {},
   "source": [
    "# Creating Matrix"
   ]
  },
  {
   "cell_type": "code",
   "execution_count": 70,
   "metadata": {},
   "outputs": [
    {
     "name": "stdout",
     "output_type": "stream",
     "text": [
      "[[0.58067743 0.71284259 0.16154613]\n",
      " [0.56652305 0.94689038 0.24775106]\n",
      " [0.28758303 0.20476857 0.4531023 ]]\n"
     ]
    }
   ],
   "source": [
    "r = \"\"\n",
    "c = \"\"\n",
    "while not r.isdigit() or int(r) < 0:\n",
    "    r = input(\"How many Rows?\")\n",
    "\n",
    "while not c.isdigit() or int(c) < 0:\n",
    "    c = input(\"How many Columns?\") \n",
    "\n",
    "array = np.zeros((int(r),int(c)))\n",
    "for r2 in range(len(array)):\n",
    "    for c in range(len(array[r2])):\n",
    "        array[r2][c] = np.random.rand()\n",
    "print(array)"
   ]
  },
  {
   "cell_type": "markdown",
   "metadata": {},
   "source": [
    "# Multipying Matrix"
   ]
  },
  {
   "cell_type": "code",
   "execution_count": 71,
   "metadata": {},
   "outputs": [
    {
     "name": "stdout",
     "output_type": "stream",
     "text": [
      "[[0.58067743 0.71284259 0.16154613]\n",
      " [0.56652305 0.94689038 0.24775106]\n",
      " [0.28758303 0.20476857 0.4531023 ]]\n"
     ]
    }
   ],
   "source": [
    "c2 = \"\"\n",
    "while not c2.isdigit() or int(c2) < 0:\n",
    "    c2 = input(\"How many Columns for multiplying?\")\n",
    "\n",
    "\n",
    "mularr = np.zeros((int(r),int(c2)))\n",
    "for r in range(len(mularr)):\n",
    "    for c in range(len(mularr[r])):\n",
    "        mularr[r][c] = np.random.randint(0,5)\n",
    "    \n",
    "#array = np.dot(array,mularr)\n",
    "print(array)"
   ]
  },
  {
   "cell_type": "markdown",
   "metadata": {},
   "source": [
    "# Matrix 1,2,3 | Sum of Matrix | Adjacency List"
   ]
  },
  {
   "cell_type": "code",
   "execution_count": 72,
   "metadata": {},
   "outputs": [
    {
     "name": "stdout",
     "output_type": "stream",
     "text": [
      "3x3 array (1,2,3) \n",
      "[[1 1 1]\n",
      " [2 2 2]\n",
      " [3 3 3]]\n",
      "Sum 4.1616845521019155\n",
      "X  1 2 3 4\n",
      " +--------\n",
      "0| 0 1 1 1 \n",
      "1| 1 0 0 1 \n",
      "2| 1 0 0 1 \n",
      "3| 1 1 1 0 \n"
     ]
    }
   ],
   "source": [
    "print(f\"3x3 array (1,2,3) \",end=\"\\n\")\n",
    "print(np.array([[1,1,1],[2,2,2],[3,3,3]]))\n",
    "print(f\"Sum {array.sum()}\")\n",
    "\n",
    "alsit = [[2,3,4],[1,4],[1,4],[1,2,3]]\n",
    "\n",
    "print(\"X  1 2 3 4\\n +--------\")\n",
    "for i in range(len(alsit)):\n",
    "    print(i,end=\"| \")\n",
    "    for x in range(4):\n",
    "        print((x+1) in alsit[i] and 1 or 0,end=\" \")\n",
    "    print()"
   ]
  },
  {
   "cell_type": "markdown",
   "metadata": {},
   "source": [
    "# Matplotlib"
   ]
  },
  {
   "cell_type": "code",
   "execution_count": 73,
   "metadata": {},
   "outputs": [
    {
     "name": "stdout",
     "output_type": "stream",
     "text": [
      "0.0\n",
      "0.0\n",
      "0.0\n",
      "0.0\n",
      "0.0\n",
      "0.0\n",
      "0.0\n",
      "0.0\n",
      "0.0\n",
      "0.0\n",
      "0.0\n",
      "0.0\n",
      "0.0\n",
      "0.0\n",
      "0.0\n",
      "0.0\n",
      "0.0\n",
      "0.0\n",
      "0.0\n",
      "0.0\n",
      "0.0\n",
      "0.0\n",
      "0.0\n",
      "0.0\n",
      "0.0\n",
      "0.0\n",
      "0.0\n",
      "0.0\n",
      "0.0\n",
      "0.0\n",
      "0.0\n",
      "0.0\n",
      "0.0\n",
      "0.0\n",
      "0.0\n",
      "0.0\n",
      "0.0\n",
      "0.0\n",
      "0.0\n",
      "0.0\n",
      "0.0\n",
      "0.0\n",
      "0.0\n",
      "0.0\n",
      "0.0\n",
      "0.0\n",
      "0.0\n",
      "0.0\n",
      "0.0\n",
      "0.0\n",
      "0.0\n",
      "0.0\n",
      "0.0\n",
      "0.0\n",
      "0.0\n",
      "0.0\n",
      "0.0\n",
      "0.0\n",
      "0.0\n",
      "0.0\n",
      "0.0\n",
      "0.0\n",
      "0.0\n",
      "0.0\n",
      "0.0\n",
      "0.0\n",
      "0.0\n",
      "0.0\n",
      "0.0\n",
      "0.0\n",
      "0.0\n",
      "0.0\n",
      "0.0\n",
      "0.0\n",
      "0.0\n",
      "0.0\n",
      "0.0\n",
      "0.0\n",
      "0.0\n",
      "0.0\n",
      "0.0\n",
      "0.0\n",
      "0.0\n",
      "0.0\n",
      "0.0\n",
      "0.0\n",
      "0.0\n",
      "0.0\n",
      "0.0\n",
      "0.0\n",
      "0.0\n",
      "0.0\n",
      "0.0\n",
      "0.0\n",
      "0.0\n",
      "0.0\n",
      "0.0\n",
      "0.0\n",
      "0.0\n",
      "0.0\n",
      "0.0\n",
      "0.0\n",
      "0.0\n",
      "0.0\n",
      "0.0\n",
      "0.0\n",
      "0.0\n",
      "0.0\n"
     ]
    },
    {
     "data": {
      "text/plain": [
       "<matplotlib.image.AxesImage at 0x76111c1d0310>"
      ]
     },
     "execution_count": 73,
     "metadata": {},
     "output_type": "execute_result"
    },
    {
     "data": {
      "image/png": "[encoded data removed]",
      "text/plain": [
       "<Figure size 640x480 with 1 Axes>"
      ]
     },
     "metadata": {},
     "output_type": "display_data"
    }
   ],
   "source": [
    "import matplotlib.pyplot as plt\n",
    "img = np.zeros((6,6,3))\n",
    "\n",
    "for i in range(len(img)):\n",
    "    for j in range(len(img[0])):\n",
    "        for a in range(len(img[0][0])):\n",
    "            print(img[i][j][a])\n",
    "            img[i][j][a] = np.random.rand()\n",
    "\n",
    "plt.imshow(img)"
   ]
  }
 ],
 "metadata": {
  "kernelspec": {
   "display_name": "base",
   "language": "python",
   "name": "python3"
  },
  "language_info": {
   "name": "python",
   "version": "3.11.4"
  }
 },
 "nbformat": 4,
 "nbformat_minor": 2
}
