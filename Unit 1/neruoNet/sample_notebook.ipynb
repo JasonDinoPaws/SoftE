{
 "cells": [
  {
   "cell_type": "markdown",
   "metadata": {},
   "source": [
    "# Handwritten Numbers Neural Network\n",
    "\n",
    "This is a 3-layer neural network to indetify handwritten numbers that used the MNIST dataset of handwritten numbers. \n",
    "\n",
    "*code by Make Your Own Neural Network, Tariq Rashid, 2016*"
   ]
  },
  {
   "cell_type": "code",
   "execution_count": 1,
   "metadata": {
    "collapsed": true
   },
   "outputs": [],
   "source": [
    "import numpy\n",
    "# scipy.special for the sigmoid function expit()\n",
    "import scipy.special\n",
    "# library for plotting arrays\n",
    "import matplotlib.pyplot as plt"
   ]
  },
  {
   "cell_type": "markdown",
   "metadata": {},
   "source": [
    "## Defining the Neural Network Class\n",
    "\n",
    "This class represents a 3-layer neural network. \n",
    "\n",
    "- `__init__(self, inputnodes, hiddennodes, outputnodes, learningrate):` initializes the neural network\n",
    "    - `inputnodes`(int) the number of nodes in the input layer\n",
    "    - `hiddennodes`(int) the number of nodes in the hidden layer\n",
    "    - `outputnodes`(int) the number of nodes in the output layer\n",
    "    - `learningrate`(float) a value between 0-1 to represent the learning rate within each node\n",
    "- `train(self, inputs_list, targets_list):` trains the neural net\n",
    "    - `inputs_list`(list) a 2D list representing a vector of inputs\n",
    "    - `targets_list`(list) a 2D list representing a vector of target values \n",
    "- `query(self, inputs_list):` queries the neural network\n",
    "    - `inputs_list`(list) a 2D list representing a vector of inputs"
   ]
  },
  {
   "cell_type": "code",
   "execution_count": 2,
   "metadata": {},
   "outputs": [],
   "source": [
    "# neural network class definition\n",
    "class neuralNetwork:\n",
    "    \n",
    "    \n",
    "    # initialise the neural network\n",
    "    def __init__(self, inputnodes, hiddennodes, outputnodes, learningrate):\n",
    "        # set number of nodes in each input, hidden, output layer\n",
    "        self.inodes = inputnodes\n",
    "        self.hnodes = hiddennodes\n",
    "        self.onodes = outputnodes\n",
    "        \n",
    "        # link weight matrices, wih and who\n",
    "        # weights inside the arrays are w_i_j, where link is from node i to node j in the next layer\n",
    "        # w11 w21\n",
    "        # w12 w22 etc \n",
    "        self.wih = numpy.random.normal(0.0, pow(self.inodes, -0.5), (self.hnodes, self.inodes))\n",
    "        self.who = numpy.random.normal(0.0, pow(self.hnodes, -0.5), (self.onodes, self.hnodes))\n",
    "\n",
    "        # learning rate\n",
    "        self.lr = learningrate\n",
    "        \n",
    "        # activation function is the sigmoid function\n",
    "        self.activation_function = lambda x: scipy.special.expit(x)\n",
    "        \n",
    "        pass\n",
    "\n",
    "    \n",
    "    # train the neural network\n",
    "    def train(self, inputs_list, targets_list):\n",
    "        # convert inputs list to 2d array\n",
    "        inputs = numpy.array(inputs_list, ndmin=2).T\n",
    "        targets = numpy.array(targets_list, ndmin=2).T\n",
    "        \n",
    "        # calculate signals into hidden layer\n",
    "        hidden_inputs = numpy.dot(self.wih, inputs)\n",
    "        # calculate the signals emerging from hidden layer\n",
    "        hidden_outputs = self.activation_function(hidden_inputs)\n",
    "        \n",
    "        # calculate signals into final output layer\n",
    "        final_inputs = numpy.dot(self.who, hidden_outputs)\n",
    "        # calculate the signals emerging from final output layer\n",
    "        final_outputs = self.activation_function(final_inputs)\n",
    "        \n",
    "        # output layer error is the (target - actual)\n",
    "        output_errors = targets - final_outputs\n",
    "        # hidden layer error is the output_errors, split by weights, recombined at hidden nodes\n",
    "        hidden_errors = numpy.dot(self.who.T, output_errors) \n",
    "        \n",
    "        # update the weights for the links between the hidden and output layers\n",
    "        self.who += self.lr * numpy.dot((output_errors * final_outputs * (1.0 - final_outputs)), numpy.transpose(hidden_outputs))\n",
    "        \n",
    "        # update the weights for the links between the input and hidden layers\n",
    "        self.wih += self.lr * numpy.dot((hidden_errors * hidden_outputs * (1.0 - hidden_outputs)), numpy.transpose(inputs))\n",
    "        \n",
    "        pass\n",
    "\n",
    "    \n",
    "    # query the neural network\n",
    "    def query(self, inputs_list):\n",
    "        # convert inputs list to 2d array\n",
    "        inputs = numpy.array(inputs_list, ndmin=2).T\n",
    "        \n",
    "        # calculate signals into hidden layer\n",
    "        hidden_inputs = numpy.dot(self.wih, inputs)\n",
    "        # calculate the signals emerging from hidden layer\n",
    "        hidden_outputs = self.activation_function(hidden_inputs)\n",
    "        \n",
    "        # calculate signals into final output layer\n",
    "        final_inputs = numpy.dot(self.who, hidden_outputs)\n",
    "        # calculate the signals emerging from final output layer\n",
    "        final_outputs = self.activation_function(final_inputs)\n",
    "        \n",
    "        return final_outputs"
   ]
  },
  {
   "cell_type": "markdown",
   "metadata": {},
   "source": [
    "## Intantiating the Neural Network\n",
    "\n",
    "This code creates a neural network with 784 input nodes(representing a 28x28 pixel image), 200 hidden nodes, and 10 output nodes(representing 0-9). The learning rate is 0.1."
   ]
  },
  {
   "cell_type": "code",
   "execution_count": 3,
   "metadata": {},
   "outputs": [],
   "source": [
    "# number of input, hidden and output nodes\n",
    "input_nodes = 784\n",
    "hidden_nodes = 200\n",
    "output_nodes = 10\n",
    "\n",
    "# learning rate\n",
    "learning_rate = 0.2\n",
    "\n",
    "# create instance of neural network\n",
    "n = neuralNetwork(input_nodes,hidden_nodes,output_nodes, learning_rate)"
   ]
  },
  {
   "cell_type": "markdown",
   "metadata": {},
   "source": [
    "## Loading the Training Data\n",
    "\n",
    "This neural network is trained on MNIST's handwritten numbers dataset available [here](www.pjreddie.com/media/files/mnist_train.csv). "
   ]
  },
  {
   "cell_type": "code",
   "execution_count": 4,
   "metadata": {},
   "outputs": [],
   "source": [
    "# load the mnist training data CSV file into a list\n",
    "training_data_file = open(\"mnist_train.csv\", 'r')\n",
    "training_data_list = training_data_file.readlines()\n",
    "training_data_file.close()"
   ]
  },
  {
   "cell_type": "markdown",
   "metadata": {},
   "source": [
    "## Training the Network\n",
    "\n",
    "This trains the network using the loaded data. It uses each datum 5 times during training. "
   ]
  },
  {
   "cell_type": "code",
   "execution_count": 5,
   "metadata": {},
   "outputs": [],
   "source": [
    "# train the neural network\n",
    "\n",
    "# epochs is the number of times the training data set is used for training\n",
    "epochs = 5\n",
    "\n",
    "for e in range(epochs):\n",
    "    # go through all records in the training data set\n",
    "    for record in training_data_list[1:]:\n",
    "        # split the record by the ',' commas\n",
    "        all_values = record.split(',')\n",
    "        # scale and shift the inputs\n",
    "        inputs = (numpy.asfarray(all_values[1:]) / 255.0 * 0.99) + 0.01\n",
    "        # create the target output values (all 0.01, except the desired label which is 0.99)\n",
    "        targets = numpy.zeros(output_nodes) + 0.01\n",
    "        # all_values[0] is the target label for this record\n",
    "        targets[int(all_values[0])] = 0.99\n",
    "        n.train(inputs, targets)\n",
    "        pass\n",
    "    pass"
   ]
  },
  {
   "cell_type": "markdown",
   "metadata": {},
   "source": [
    "## Loading the Testing Data\n",
    "\n",
    "This neural network is trained on MNIST's handwritten numbers dataset available [here](www.pjreddie.com/media/files/mnist_test.csv). "
   ]
  },
  {
   "cell_type": "code",
   "execution_count": 6,
   "metadata": {
    "collapsed": true
   },
   "outputs": [],
   "source": [
    "# load the mnist test data CSV file into a list\n",
    "test_data_file = open(\"mnist_test.csv\", 'r')\n",
    "test_data_list = test_data_file.readlines()\n",
    "test_data_file.close()"
   ]
  },
  {
   "cell_type": "markdown",
   "metadata": {},
   "source": [
    "## Testing the Network\n",
    "\n",
    "This tests the network using the loaded data."
   ]
  },
  {
   "cell_type": "code",
   "execution_count": 7,
   "metadata": {},
   "outputs": [],
   "source": [
    "# test the neural network\n",
    "\n",
    "# scorecard for how well the network performs, initially empty\n",
    "scorecard = []\n",
    "\n",
    "# go through all the records in the test data set\n",
    "for record in test_data_list:\n",
    "    # split the record by the ',' commas\n",
    "    all_values = record.split(',')\n",
    "    # correct answer is first value\n",
    "    correct_label = int(all_values[0])\n",
    "    # scale and shift the inputs\n",
    "    inputs = (numpy.asfarray(all_values[1:]) / 255.0 * 0.99) + 0.01\n",
    "    # query the network\n",
    "    outputs = n.query(inputs)\n",
    "    # the index of the highest value corresponds to the label\n",
    "    label = numpy.argmax(outputs)\n",
    "    # append correct or incorrect to list\n",
    "    if (label == correct_label):\n",
    "        # network's answer matches correct answer, add 1 to scorecard\n",
    "        scorecard.append(1)\n",
    "    else:\n",
    "        # network's answer doesn't match correct answer, add 0 to scorecard\n",
    "        scorecard.append(0)\n",
    "        pass\n",
    "    \n",
    "    pass"
   ]
  },
  {
   "cell_type": "code",
   "execution_count": 8,
   "metadata": {},
   "outputs": [
    {
     "name": "stdout",
     "output_type": "stream",
     "text": [
      "7\n"
     ]
    },
    {
     "data": {
      "image/png": "[encoded data removed]",
      "text/plain": [
       "<Figure size 640x480 with 1 Axes>"
      ]
     },
     "metadata": {},
     "output_type": "display_data"
    }
   ],
   "source": [
    "all_values = test_data_list[0].split(',')\n",
    "image = numpy.asfarray(all_values[1:]).reshape((28,28))\n",
    "inputs = (numpy.asfarray(all_values[1:]) / 255.0 * 0.99) + 0.01\n",
    "outputs = n.query(inputs)\n",
    "label = numpy.argmax(outputs)\n",
    "\n",
    "plt.imshow(image,cmap=\"Greys\",interpolation=\"None\")\n",
    "print(label)"
   ]
  },
  {
   "cell_type": "markdown",
   "metadata": {},
   "source": [
    "## Calculating Accuracy\n",
    "\n",
    "This calcuates an accurary score based on the previously populated scorecard. Each correctly identified number is given a score of 1 and each incorrected identified number is given a sccore of 0. The totals are then averaged."
   ]
  },
  {
   "cell_type": "code",
   "execution_count": 9,
   "metadata": {},
   "outputs": [
    {
     "name": "stdout",
     "output_type": "stream",
     "text": [
      "performance =  0.9687\n"
     ]
    }
   ],
   "source": [
    "# calculate the performance score, the fraction of correct answers\n",
    "scorecard_array = numpy.asarray(scorecard)\n",
    "print (\"performance = \", scorecard_array.sum() / scorecard_array.size)"
   ]
  },
  {
   "cell_type": "code",
   "execution_count": 13,
   "metadata": {},
   "outputs": [],
   "source": [
    "from tkinter import Tk,Canvas,EventType\n",
    "array = numpy.zeros((28,28))\n",
    "\n",
    "window = Tk()\n",
    "size = int(window.winfo_screenheight()/2)\n",
    "cansize = size-10\n",
    "window.minsize(size,size)\n",
    "window.config(background=\"#000000\")\n",
    "\n",
    "canvas = Canvas(window,background=\"#AAAAAA\",width=cansize,height=cansize)\n",
    "canvas.place(x=5,y=5)\n",
    "\n",
    "rxsize = cansize/len(array[0])\n",
    "rysize = cansize/len(array)\n",
    "\n",
    "lc = False\n",
    "def on_click(event): \n",
    "    global lc\n",
    "    lc = event.type == EventType.ButtonPress\n",
    "\n",
    "window.bind('<ButtonPress-1>', on_click)\n",
    "window.bind('<ButtonRelease-1>', on_click)\n",
    "\n",
    "try:\n",
    "    while True:\n",
    "        x,y = window.winfo_pointerxy()\n",
    "        wx, wy = window.winfo_x(),window.winfo_y()\n",
    "        cx1, cy1 = wx+5, wy+5\n",
    "        cx2, cy2 = cx1+cansize, cy1+cansize\n",
    "        incan = x >= cx1 and x <= cx2 and y >= cy1 and y <= cy2\n",
    "\n",
    "        canvas.delete(\"all\")\n",
    "        for r in range(len(array)):\n",
    "            for c in range(len(array[r])):\n",
    "                x1 = c*rxsize\n",
    "                y1 = r*rysize\n",
    "                x2 = (c*rxsize)+rxsize\n",
    "                y2 = (r*rysize)+rysize\n",
    "\n",
    "                px1, py1 = cx1+x1, cy1+y1\n",
    "                px2, py2 = cx1+x2, cy1+y2\n",
    "                inpix = incan and x >= px1 and x <= px2 and y >= py1 and y <= py2\n",
    "\n",
    "                if inpix and lc:\n",
    "                    array[r][c] = 1\n",
    "                \n",
    "                fill = \"#FFFFFF\"\n",
    "                if array[r][c]:\n",
    "                    fill = \"#000000\"\n",
    "\n",
    "                canvas.create_rectangle(x1,y1,x2,y2,outline=\"\",fill=fill)\n",
    "\n",
    "        window.update()\n",
    "except:\n",
    "    pass"
   ]
  },
  {
   "cell_type": "code",
   "execution_count": 14,
   "metadata": {},
   "outputs": [
    {
     "name": "stdout",
     "output_type": "stream",
     "text": [
      "5\n"
     ]
    },
    {
     "data": {
      "image/png": "[encoded data removed]",
      "text/plain": [
       "<Figure size 640x480 with 1 Axes>"
      ]
     },
     "metadata": {},
     "output_type": "display_data"
    }
   ],
   "source": [
    "\n",
    "image = numpy.asfarray(array)\n",
    "array2 = array.flatten()\n",
    "\n",
    "inputs = numpy.asfarray(array2) \n",
    "outputs = n.query(inputs)\n",
    "label = numpy.argmax(outputs)\n",
    "\n",
    "plt.imshow(image,cmap=\"Greys\",interpolation=\"None\")\n",
    "print(label)"
   ]
  },
  {
   "cell_type": "code",
   "execution_count": 12,
   "metadata": {},
   "outputs": [
    {
     "data": {
      "image/png": "[encoded data removed]",
      "text/plain": [
       "<Figure size 640x480 with 1 Axes>"
      ]
     },
     "metadata": {},
     "output_type": "display_data"
    }
   ],
   "source": [
    "trainarr = numpy.zeros((28,28))\n",
    "\n",
    "for r,c in [(2,14),(3,13),(3,15),(4,12),(4,16),(5,11),(5,17),(6,10),(6,18)]:\n",
    "    trainarr[r][c] = 255\n",
    "\n",
    "for r in range(20):\n",
    "    trainarr[7+r][9] = 255\n",
    "    trainarr[7+r][19] = 255\n",
    "\n",
    "for r in range(10):\n",
    "    trainarr[15][18-r] = 255\n",
    "\n",
    "image = numpy.asfarray(trainarr).reshape((28,28))\n",
    "plt.imshow(image,cmap=\"Greys\",interpolation=\"None\")\n",
    "\n",
    "with open(\"test.txt\",\"w\") as file:\n",
    "    file.write(str(trainarr.flatten()).replace(\".\",\",\").replace(\"\\n\",\"\"))"
   ]
  }
 ],
 "metadata": {
  "kernelspec": {
   "display_name": "base",
   "language": "python",
   "name": "python3"
  },
  "language_info": {
   "codemirror_mode": {
    "name": "ipython",
    "version": 3
   },
   "file_extension": ".py",
   "mimetype": "text/x-python",
   "name": "python",
   "nbconvert_exporter": "python",
   "pygments_lexer": "ipython3",
   "version": "3.11.4"
  }
 },
 "nbformat": 4,
 "nbformat_minor": 1
}
